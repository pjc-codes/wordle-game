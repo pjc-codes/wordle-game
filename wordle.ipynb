{
 "cells": [
  {
   "cell_type": "code",
   "execution_count": 13,
   "metadata": {},
   "outputs": [],
   "source": [
    "import random\n",
    "import os\n",
    "from time import sleep\n",
    "from termcolor import colored\n",
    "\n",
    "\n",
    "def wordle_board(guess_list: list[str] = [], guess_num: int = 0, result_list: list[list[int]] = []):\n",
    "    colors = ['yellow', 'green', 'red']\n",
    "    for i in range(guess_num):\n",
    "        print(\"|\", colored(f\"{guess_list[i][0]}\",\n",
    "              color=colors[result_list[i][0]]), end=\"\")\n",
    "        print(\"|\", colored(f\"{guess_list[i][1]}\",\n",
    "              color=colors[result_list[i][1]]), end=\"\")\n",
    "        print(\"|\", colored(f\"{guess_list[i][2]}\",\n",
    "              color=colors[result_list[i][2]]), end=\"\")\n",
    "        print(\"|\", colored(f\"{guess_list[i][3]}\",\n",
    "              color=colors[result_list[i][3]]), end=\"\")\n",
    "        print(\"|\", colored(\n",
    "            f\"{guess_list[i][4]}\", color=colors[result_list[i][4]]), \"|\", end=\"\")\n",
    "        print()\n",
    "\n",
    "    for i in range(6-guess_num):\n",
    "        # print(f\"|__|__|__|__|__|\")\n",
    "        print(f\"|  |  |  |  |  |\")\n",
    "\n",
    "\n",
    "def get_guess_easy(guess_list: list, word_list: list):\n",
    "    while True:\n",
    "        try:\n",
    "            guess = input(\"Enter your guess : \")\n",
    "            if (len(guess) == 5) and guess.isalpha() and (guess in word_list):\n",
    "                if guess in guess_list:\n",
    "                    print(\"You've already guessed that word.\")\n",
    "                    raise ValueError\n",
    "                guess_list.append(guess.upper())\n",
    "                break\n",
    "            else:\n",
    "                raise ValueError\n",
    "        except ValueError:\n",
    "            print(\"Please enter a valid 5-letter word.\")\n",
    "\n",
    "\n",
    "def get_guess_hard(guess_list: list, word_list: list):\n",
    "    while True:\n",
    "        try:\n",
    "            guess = input(\"Enter your guess : \").upper()\n",
    "            if (len(guess) == 5) and guess.isalpha() and (guess in word_list):\n",
    "                if guess in guess_list:\n",
    "                    print(\"You've already guessed that word.\")\n",
    "                    raise ValueError\n",
    "                guess_list.append(guess.upper())\n",
    "                break\n",
    "            else:\n",
    "                raise ValueError\n",
    "        except ValueError:\n",
    "            print(\"Please enter a valid 5-letter word.\")\n",
    "\n",
    "\n",
    "def get_words():\n",
    "    words = []\n",
    "    with open(\"words.txt\") as file:\n",
    "        for line in file:\n",
    "            words.append(line.strip())\n",
    "    return words\n",
    "\n",
    "\n",
    "def check_guess(guess: str, word: str) -> list[int]:\n",
    "    if word == guess:\n",
    "        return [1, 1, 1, 1, 1]\n",
    "    word_dict = {}\n",
    "    for char in word:\n",
    "        word_dict[char] = word_dict.get(char, 0) + 1\n",
    "    correct = [2]*5\n",
    "    # first pass to identify correct letters in correct position\n",
    "    for i in range(5):\n",
    "        if guess[i] == word[i]:\n",
    "            correct[i] = 1\n",
    "            word_dict[guess[i]] -= 1\n",
    "    # second pass to identify correct letters in wrong positions\n",
    "    for i in range(5):\n",
    "        if (correct[i] == 2) and (guess[i] in word_dict) and (word_dict[guess[i]] > 0):\n",
    "            correct[i] = 0\n",
    "            word_dict[guess[i]] -= 1\n",
    "    return correct\n",
    "\n",
    "\n",
    "def wordle():\n",
    "    word_list = get_words()\n",
    "    word = random.choice(word_list).upper()\n",
    "    guess_list = []\n",
    "    guess_num = 0\n",
    "    result_list = []\n",
    "    wordle_board()\n",
    "    while guess_num < 6:\n",
    "        get_guess_easy(guess_list, word_list)\n",
    "        result = check_guess(guess_list[-1], word)\n",
    "        result_list.append(result)\n",
    "        sleep(0.5)\n",
    "        os.system('clear')\n",
    "        guess_num += 1\n",
    "        wordle_board(guess_list, guess_num, result_list)\n",
    "        if result == [1, 1, 1, 1, 1]:\n",
    "            print(\"You win!\")\n",
    "            break\n",
    "\n",
    "    print(f\"The word was {word}.\")"
   ]
  },
  {
   "cell_type": "code",
   "execution_count": 14,
   "metadata": {},
   "outputs": [
    {
     "name": "stdout",
     "output_type": "stream",
     "text": [
      "|_|_|_|_|_|\n",
      "|_|_|_|_|_|\n",
      "|_|_|_|_|_|\n",
      "|_|_|_|_|_|\n",
      "|_|_|_|_|_|\n",
      "|_|_|_|_|_|\n",
      "\u001b[H\u001b[2J|_|_|_|_|_|\n",
      "|_|_|_|_|_|\n",
      "|_|_|_|_|_|\n",
      "|_|_|_|_|_|\n",
      "|_|_|_|_|_|\n",
      "|_|_|_|_|_|\n",
      "|_|_|_|_|_|\n",
      "|_|_|_|_|_|\n",
      "|_|_|_|_|_|\n",
      "|_|_|_|_|_|\n",
      "|_|_|_|_|_|\n",
      "|_|_|_|_|_|\n"
     ]
    }
   ],
   "source": [
    "wordle()"
   ]
  },
  {
   "cell_type": "code",
   "execution_count": 26,
   "metadata": {},
   "outputs": [
    {
     "name": "stdout",
     "output_type": "stream",
     "text": [
      "something\u001b[31mThis is text red\u001b[0m\n"
     ]
    }
   ],
   "source": [
    "colors = ['red', 'green', 'yellow']\n",
    "\n",
    "print(\"something\", colored(f\"This is text {\n",
    "      colors[0]}\", color=colors[0]), sep=\"\")"
   ]
  },
  {
   "cell_type": "code",
   "execution_count": 8,
   "metadata": {},
   "outputs": [
    {
     "name": "stdout",
     "output_type": "stream",
     "text": [
      "|_|_|_|_|_|_|"
     ]
    }
   ],
   "source": [
    "print(f\"|_|_|_|\", end=\"\")\n",
    "print(f\"_|_|_|\", end=\"\")"
   ]
  },
  {
   "cell_type": "code",
   "execution_count": 9,
   "metadata": {},
   "outputs": [
    {
     "data": {
      "text/plain": [
       "[[-1, -1, -1, -1, -1]]"
      ]
     },
     "execution_count": 9,
     "metadata": {},
     "output_type": "execute_result"
    }
   ],
   "source": [
    "correct = [[-1]*5]\n",
    "correct"
   ]
  },
  {
   "cell_type": "code",
   "execution_count": 21,
   "metadata": {},
   "outputs": [
    {
     "data": {
      "text/plain": [
       "[-1, 1, 1, 0, -1]"
      ]
     },
     "execution_count": 21,
     "metadata": {},
     "output_type": "execute_result"
    }
   ],
   "source": [
    "word = 'apple'\n",
    "guess = 'pppep'\n",
    "check_guess(guess, word)"
   ]
  },
  {
   "cell_type": "code",
   "execution_count": 19,
   "metadata": {},
   "outputs": [
    {
     "data": {
      "text/plain": [
       "[-1, -1, -1]"
      ]
     },
     "execution_count": 19,
     "metadata": {},
     "output_type": "execute_result"
    }
   ],
   "source": [
    "[-1]*3"
   ]
  },
  {
   "cell_type": "code",
   "execution_count": 2,
   "metadata": {},
   "outputs": [
    {
     "data": {
      "text/plain": [
       "True"
      ]
     },
     "execution_count": 2,
     "metadata": {},
     "output_type": "execute_result"
    }
   ],
   "source": [
    "bool([[1]])"
   ]
  },
  {
   "cell_type": "code",
   "execution_count": 4,
   "metadata": {},
   "outputs": [
    {
     "data": {
      "text/plain": [
       "2"
      ]
     },
     "execution_count": 4,
     "metadata": {},
     "output_type": "execute_result"
    }
   ],
   "source": [
    "a=[1,0,1,1,0,2,2,1]\n",
    "a.count(0)"
   ]
  },
  {
   "cell_type": "code",
   "execution_count": null,
   "metadata": {},
   "outputs": [],
   "source": []
  }
 ],
 "metadata": {
  "kernelspec": {
   "display_name": "Python 3",
   "language": "python",
   "name": "python3"
  },
  "language_info": {
   "codemirror_mode": {
    "name": "ipython",
    "version": 3
   },
   "file_extension": ".py",
   "mimetype": "text/x-python",
   "name": "python",
   "nbconvert_exporter": "python",
   "pygments_lexer": "ipython3",
   "version": "3.12.4"
  }
 },
 "nbformat": 4,
 "nbformat_minor": 2
}
