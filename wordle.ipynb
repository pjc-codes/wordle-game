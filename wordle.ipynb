{
 "cells": [
  {
   "cell_type": "code",
   "execution_count": 19,
   "metadata": {},
   "outputs": [],
   "source": [
    "import random\n",
    "from termcolor import colored\n",
    "\n",
    "\n",
    "def wordle_board(guess_list: list[str], guess_num: int):\n",
    "    for i in range(guess_num):\n",
    "        print(f\"|{guess_list[i][0]}|{guess_list[i][1]}|{\n",
    "              guess_list[i][2]}|{guess_list[i][3]}|{guess_list[i][4]}|\")\n",
    "    for i in range(6-guess_num):\n",
    "        print(f\"|_|_|_|_|_|\")\n",
    "\n",
    "\n",
    "def get_guess(guess_list: list, word_list: list):\n",
    "    while True:\n",
    "        try:\n",
    "            guess = input(\"Enter your guess : \")\n",
    "            if (len(guess) == 6) and guess.isalpha() and (guess in word_list):\n",
    "                guess_list.append(guess)\n",
    "                break\n",
    "            else:\n",
    "                raise Exception\n",
    "        except Exception:\n",
    "            print(\"Please enter a valid 5-letter word.\")\n",
    "\n",
    "\n",
    "def get_words():\n",
    "    words = []\n",
    "    with open(\"words.txt\") as f:\n",
    "        for line in f:\n",
    "            words.append(line.strip())\n",
    "\n",
    "    return words"
   ]
  },
  {
   "cell_type": "code",
   "execution_count": 16,
   "metadata": {},
   "outputs": [
    {
     "name": "stdout",
     "output_type": "stream",
     "text": [
      "['ABCDE', 'FGHIJ', 'LMNOP', 'SQUAT', 'PLUME', 'CHUNK']\n"
     ]
    },
    {
     "data": {
      "text/plain": [
       "'dummy'"
      ]
     },
     "execution_count": 16,
     "metadata": {},
     "output_type": "execute_result"
    }
   ],
   "source": [
    "lst = ['ABCDE', 'FGHIJ', 'LMNOP', 'SQUAT', 'PLUME', 'CHUNK']\n",
    "n = 3\n",
    "print(lst)\n",
    "\n",
    "# wordle_board(lst, n)\n",
    "\n",
    "a = get_words()\n",
    "\n",
    "random.choice(a)"
   ]
  },
  {
   "cell_type": "code",
   "execution_count": 17,
   "metadata": {},
   "outputs": [
    {
     "data": {
      "text/plain": [
       "True"
      ]
     },
     "execution_count": 17,
     "metadata": {},
     "output_type": "execute_result"
    }
   ],
   "source": [
    "'welch' in a"
   ]
  },
  {
   "cell_type": "code",
   "execution_count": 22,
   "metadata": {},
   "outputs": [
    {
     "name": "stdout",
     "output_type": "stream",
     "text": [
      "something\u001b[31mThis is red text aback\u001b[0m\n"
     ]
    }
   ],
   "source": [
    "print(\"something\",colored(f\"This is red text {a[0]}\", \"red\"),sep=\"\")\n"
   ]
  },
  {
   "cell_type": "code",
   "execution_count": null,
   "metadata": {},
   "outputs": [],
   "source": []
  }
 ],
 "metadata": {
  "kernelspec": {
   "display_name": "Python 3",
   "language": "python",
   "name": "python3"
  },
  "language_info": {
   "codemirror_mode": {
    "name": "ipython",
    "version": 3
   },
   "file_extension": ".py",
   "mimetype": "text/x-python",
   "name": "python",
   "nbconvert_exporter": "python",
   "pygments_lexer": "ipython3",
   "version": "3.12.4"
  }
 },
 "nbformat": 4,
 "nbformat_minor": 2
}
